{
 "cells": [
  {
   "cell_type": "markdown",
   "id": "f8f86961",
   "metadata": {},
   "source": [
    "# Nama : Kanaya Dea Thalita Akhmad\n",
    "# NIM : 121450001\n",
    "# PBF TUGAS MINGGU 1"
   ]
  },
  {
   "cell_type": "markdown",
   "id": "00fd3347",
   "metadata": {},
   "source": [
    "Soal 1. Jelaskan menggunakan tabel mengenai kelebihan dan kekurangan\n",
    "paradigma procedural dibandingkan dengan object oriented (minimal 3) !"
   ]
  },
  {
   "cell_type": "markdown",
   "id": "e16b2f89",
   "metadata": {},
   "source": [
    "Paradigma | Kelebihan | Kekurangan\n",
    "---| --- | ---\n",
    "Procedural|1. Lebih mudah dipahami dan dipelajari bagi pemula. <br> 2. Struktur program yang lebih sederhana dan mudah dipelihara. <br> 3. Proses-proses dalam program lebih mudah dilacak dan diterapkan. | 1. Abstraksi rendah, tidak memodelkan dunia nyata dengan baik. <br> 2. Struktur program yang tidak terstruktur dan sulit dikembangkan. <br> 3. Kode program yang panjang dan tidak terbaca.\n",
    "Object Oriented | 1. Abstraksi tinggi, memodelkan dunia nyata dengan baik. <br> 2. Struktur program yang terstruktur dan mudah dikembangkan. <br> 3. Kode program yang lebih terbaca dan mudah dipahami. <br> 4. Reusabilitas kode yang tinggi. | 1. Lebih sulit dipahami dan dipelajari bagi pemula. <br> 2. Struktur program yang lebih kompleks dan membutuhkan waktu untuk dipelajari. <br> 3. Overhead dalam membuat objek dan kelas yang tidak perlu."
   ]
  },
  {
   "cell_type": "markdown",
   "id": "31c9d673",
   "metadata": {},
   "source": [
    "Soal 2. Jelaskan menggunakan tabel mengenai kelebihan dan kekurangan paradigma object oriented dibandingkan dengan functional (minimal 3) !"
   ]
  },
  {
   "cell_type": "markdown",
   "id": "8e9bf6f9",
   "metadata": {},
   "source": [
    "Aspek | Object-Oriented | Functional\n",
    "---|---|---\n",
    "Konsep|Class, inheritance, encapsulation|Immutable data, first class functions, pure functions\n",
    "Kelebihan|Mempermudah pemahaman dan organiasasi kode, lebih cocok untuk memodelkan konsep dunia nyata|Lebih mudah diprediksi dan diuji, lebih efisien dalam beberapa kasus, lebih aman terhadap error dan bugs\n",
    "Kekurangan|Rentan terhadap acak dan tidak terduga, membuat kode lebih sulit diprediksi dan diuji|Kurang fleksibel dan lebih sulit diterapkan pada masalah yang membutuhkan konsep dunia nyata"
   ]
  },
  {
   "cell_type": "markdown",
   "id": "9ef270b9",
   "metadata": {},
   "source": [
    "Soal 3. Jelaskan menggunakan tabel mengenai kelebihan dan kekurangan paradigma procedural dibandingkan dengan functional (minimal 3) !"
   ]
  },
  {
   "cell_type": "markdown",
   "id": "1b2c3464",
   "metadata": {},
   "source": [
    "Aspek|Procedural|Functional\n",
    "---|---|---\n",
    "Konsep|Step-by-step instructions|Immutable data, first-class functions, pure functions\n",
    "Kelebihan|Lebih mudah dipahami dan diterapkan, lebih efisien dalam beberapa kasus|Lebih mudah diprediksi dan diuji, lebih efisien dalam beberapa kasus, lebih aman terhadap error dan bugs\n",
    "Kekurangan|Rentan terhadap acak dan tidak terduga, membuat kode lebih sulit diprediksi dan diuji|Kurang fleksibel dan lebih sulit diterapkan pada masalah yang membutuhkan konsep dunia nyata, memerlukan lebih banyak pemahaman dan keterampilan untuk diterapkan dengan benar"
   ]
  },
  {
   "cell_type": "markdown",
   "id": "909cc26e",
   "metadata": {},
   "source": [
    "Soal 4. Apa yang dimaksud dengan pure functional programming language?"
   ]
  },
  {
   "cell_type": "markdown",
   "id": "137cfb64",
   "metadata": {},
   "source": [
    "Pure functional programming adalah gaya pemrograman yang hanya menggunakan fungsi matematis pur (pure functions) untuk memproses data. Fungsi matematis pur adalah fungsi yang tidak memiliki efek samping dan selalu menghasilkan nilai yang sama untuk masukan yang sama. Dalam pemrograman fungsional murni, data tidak dapat berubah setelah didefinisikan, sehingga memastikan bahwa setiap operasi yang dilakukan hanya memproses data dan tidak mengubahnya."
   ]
  },
  {
   "cell_type": "markdown",
   "id": "a64488a0",
   "metadata": {},
   "source": [
    "Soal 5. Dari bahasa pemrograman FP di slide sebelumnya ( slide 14 ) , manakah yang termasuk pure functional programming language?"
   ]
  },
  {
   "cell_type": "markdown",
   "id": "e9cad8ee",
   "metadata": {},
   "source": [
    "Lisp, Haskell, dan standart ml"
   ]
  },
  {
   "cell_type": "code",
   "execution_count": 5,
   "id": "1b467d42",
   "metadata": {},
   "outputs": [],
   "source": [
    "def encrypt_password(password):\n",
    "    #cek jumlah karakter\n",
    "    if len(password) > 100:\n",
    "        return \"Password terlalu panjang, maksimal 100 karakter.\"\n",
    "    \n",
    "    encrypted_password = \"\"\n",
    "    \n",
    "    for char in password:\n",
    "        # Mengubah karakter ke ASCII value\n",
    "        ascii_value = ord(char)\n",
    "        \n",
    "        # Menghitung value pertama\n",
    "        first_value = int(round(ascii_value / 26)) + 80\n",
    "        first_char = chr(first_value)\n",
    "        \n",
    "        # Menghitung value kedua\n",
    "        second_value = ascii_value % 26 + 80\n",
    "        second_char = chr(second_value)\n",
    "        \n",
    "        # Menentukan value ketiga\n",
    "        third_char = '+' if first_value > second_value else '-'\n",
    "        \n",
    "        # Menambahkan semua value ke encrypted password\n",
    "        encrypted_password += first_char + second_char + third_char\n",
    "    \n",
    "    return encrypted_password\n"
   ]
  },
  {
   "cell_type": "code",
   "execution_count": 6,
   "id": "144d94e8",
   "metadata": {},
   "outputs": [
    {
     "name": "stdout",
     "output_type": "stream",
     "text": [
      "Masukkan password: kanayaorangsukses19\n",
      "Password terenkripsi: TS+Tc-TV-Tc-Ua-Tc-TW-TZ-Tc-TV-Ti-T[-T]-TS+T[-Tg-T[-Rg-RU-\n"
     ]
    }
   ],
   "source": [
    "password = input(\"Masukkan password: \")\n",
    "encrypted_password = encrypt_password(password)\n",
    "print(\"Password terenkripsi:\", encrypted_password)"
   ]
  }
 ],
 "metadata": {
  "kernelspec": {
   "display_name": "Python 3 (ipykernel)",
   "language": "python",
   "name": "python3"
  },
  "language_info": {
   "codemirror_mode": {
    "name": "ipython",
    "version": 3
   },
   "file_extension": ".py",
   "mimetype": "text/x-python",
   "name": "python",
   "nbconvert_exporter": "python",
   "pygments_lexer": "ipython3",
   "version": "3.10.7"
  }
 },
 "nbformat": 4,
 "nbformat_minor": 5
}
